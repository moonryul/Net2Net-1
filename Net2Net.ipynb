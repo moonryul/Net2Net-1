{
  "nbformat": 4,
  "nbformat_minor": 0,
  "metadata": {
    "colab": {
      "name": "Net2Net.ipynb",
      "provenance": [],
      "authorship_tag": "ABX9TyOpb7xnBC76uTsMfwjQYxEc",
      "include_colab_link": true
    },
    "kernelspec": {
      "name": "python3",
      "display_name": "Python 3"
    },
    "language_info": {
      "name": "python"
    },
    "accelerator": "GPU"
  },
  "cells": [
    {
      "cell_type": "markdown",
      "metadata": {
        "id": "view-in-github",
        "colab_type": "text"
      },
      "source": [
        "<a href=\"https://colab.research.google.com/github/moonryul/Net2Net-1/blob/master/Net2Net.ipynb\" target=\"_parent\"><img src=\"https://colab.research.google.com/assets/colab-badge.svg\" alt=\"Open In Colab\"/></a>"
      ]
    },
    {
      "cell_type": "code",
      "metadata": {
        "colab": {
          "base_uri": "https://localhost:8080/"
        },
        "id": "f1yYxv7fYIiQ",
        "outputId": "9c61bbd4-1445-40f5-cf94-766346be07a1"
      },
      "source": [
        "from google.colab import drive\n",
        "drive.mount(\"/content/gdrive\")"
      ],
      "execution_count": 5,
      "outputs": [
        {
          "output_type": "stream",
          "text": [
            "Drive already mounted at /content/gdrive; to attempt to forcibly remount, call drive.mount(\"/content/gdrive\", force_remount=True).\n"
          ],
          "name": "stdout"
        }
      ]
    },
    {
      "cell_type": "code",
      "metadata": {
        "colab": {
          "base_uri": "https://localhost:8080/"
        },
        "id": "CV22G49eYjxe",
        "outputId": "af6d503a-8668-491c-d766-d066f3903b18"
      },
      "source": [
        "!git clone https://github.com/moonryul/Net2Net-1.git /content/gdrive/MyDrive/ColabNotebooks/Net2Net"
      ],
      "execution_count": 2,
      "outputs": [
        {
          "output_type": "stream",
          "text": [
            "Cloning into '/content/gdrive/MyDrive/ColabNotebooks/Net2Net'...\n",
            "remote: Enumerating objects: 113, done.\u001b[K\n",
            "remote: Total 113 (delta 0), reused 0 (delta 0), pack-reused 113\u001b[K\n",
            "Receiving objects: 100% (113/113), 11.26 MiB | 10.07 MiB/s, done.\n",
            "Resolving deltas: 100% (48/48), done.\n",
            "Checking out files: 100% (26/26), done.\n"
          ],
          "name": "stdout"
        }
      ]
    },
    {
      "cell_type": "code",
      "metadata": {
        "colab": {
          "base_uri": "https://localhost:8080/"
        },
        "id": "vVnk_dxtZACF",
        "outputId": "3ddb4f37-89fd-4797-d76e-3ec72a346762"
      },
      "source": [
        "import sys\n",
        "sys.path"
      ],
      "execution_count": 3,
      "outputs": [
        {
          "output_type": "execute_result",
          "data": {
            "text/plain": [
              "['',\n",
              " '/content',\n",
              " '/env/python',\n",
              " '/usr/lib/python37.zip',\n",
              " '/usr/lib/python3.7',\n",
              " '/usr/lib/python3.7/lib-dynload',\n",
              " '/usr/local/lib/python3.7/dist-packages',\n",
              " '/usr/lib/python3/dist-packages',\n",
              " '/usr/local/lib/python3.7/dist-packages/IPython/extensions',\n",
              " '/root/.ipython']"
            ]
          },
          "metadata": {
            "tags": []
          },
          "execution_count": 3
        }
      ]
    },
    {
      "cell_type": "code",
      "metadata": {
        "id": "lF4UM98uZ0Vp"
      },
      "source": [
        "sys.path.append('/content/gdrive/MyDrive/ColabNotebooks/Net2Net')"
      ],
      "execution_count": 4,
      "outputs": []
    },
    {
      "cell_type": "code",
      "metadata": {
        "colab": {
          "base_uri": "https://localhost:8080/"
        },
        "id": "IoqSE6yDZ_8I",
        "outputId": "35c5a071-fbf5-4133-9867-c7a3b68c3a7f"
      },
      "source": [
        "sys.path"
      ],
      "execution_count": 5,
      "outputs": [
        {
          "output_type": "execute_result",
          "data": {
            "text/plain": [
              "['',\n",
              " '/content',\n",
              " '/env/python',\n",
              " '/usr/lib/python37.zip',\n",
              " '/usr/lib/python3.7',\n",
              " '/usr/lib/python3.7/lib-dynload',\n",
              " '/usr/local/lib/python3.7/dist-packages',\n",
              " '/usr/lib/python3/dist-packages',\n",
              " '/usr/local/lib/python3.7/dist-packages/IPython/extensions',\n",
              " '/root/.ipython',\n",
              " '/content/gdrive/MyDrive/ColabNotebooks/Net2Net']"
            ]
          },
          "metadata": {
            "tags": []
          },
          "execution_count": 5
        }
      ]
    },
    {
      "cell_type": "code",
      "metadata": {
        "colab": {
          "base_uri": "https://localhost:8080/"
        },
        "id": "U9Iy0WDmaG2Z",
        "outputId": "040f5628-5329-4139-9e2c-e3ebae35422c"
      },
      "source": [
        "%cd /content/gdrive/MyDrive/ColabNotebooks/Net2Net/examples"
      ],
      "execution_count": 6,
      "outputs": [
        {
          "output_type": "stream",
          "text": [
            "/content/gdrive/MyDrive/ColabNotebooks/Net2Net/examples\n"
          ],
          "name": "stdout"
        }
      ]
    },
    {
      "cell_type": "code",
      "metadata": {
        "colab": {
          "base_uri": "https://localhost:8080/"
        },
        "id": "NvNr8y18aOsv",
        "outputId": "f3cc3031-aeb5-4fb8-f8ed-38313ea29f9c"
      },
      "source": [
        "!python train_mnist.py -h"
      ],
      "execution_count": 7,
      "outputs": [
        {
          "output_type": "stream",
          "text": [
            "usage: train_mnist.py [-h] [--batch-size N] [--test-batch-size N] [--epochs N]\n",
            "                      [--lr LR] [--momentum M] [--no-cuda] [--seed S]\n",
            "                      [--log-interval N]\n",
            "\n",
            "PyTorch MNIST Example\n",
            "\n",
            "optional arguments:\n",
            "  -h, --help           show this help message and exit\n",
            "  --batch-size N       input batch size for training (default: 64)\n",
            "  --test-batch-size N  input batch size for testing (default: 1000)\n",
            "  --epochs N           number of epochs to train (default: 10)\n",
            "  --lr LR              learning rate (default: 0.01)\n",
            "  --momentum M         SGD momentum (default: 0.5)\n",
            "  --no-cuda            disables CUDA training\n",
            "  --seed S             random seed (default: 1)\n",
            "  --log-interval N     how many batches to wait before logging status\n"
          ],
          "name": "stdout"
        }
      ]
    },
    {
      "cell_type": "code",
      "metadata": {
        "id": "-ca2So_KePVh"
      },
      "source": [
        "!python train_mnist.py"
      ],
      "execution_count": null,
      "outputs": []
    },
    {
      "cell_type": "code",
      "metadata": {
        "id": "Bi1iF4u8lqXE"
      },
      "source": [
        ""
      ],
      "execution_count": null,
      "outputs": []
    }
  ]
}